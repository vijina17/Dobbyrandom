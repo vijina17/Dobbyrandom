{
 "cells": [
  {
   "cell_type": "code",
   "execution_count": 1,
   "id": "43e1fd9f",
   "metadata": {},
   "outputs": [],
   "source": [
    "import unittest\n",
    "\n",
    "from main_package.Stock_main import *\n",
    "from sub_package.bot import *"
   ]
  },
  {
   "cell_type": "code",
   "execution_count": 2,
   "id": "8e4c0ecb",
   "metadata": {},
   "outputs": [],
   "source": [
    "class Testbot(unittest.TestCase): # test class\n",
    "    \n",
    "    @classmethod\n",
    "    def setUpClass(cls):\n",
    "        print('setupClass')\n",
    "    \n",
    "    def setUp(self):\n",
    "        print('Set up')\n",
    "\n",
    "        \n",
    "    def tearDown(self):\n",
    "        print('Tear Down')\n",
    "\n",
    "       \n",
    "    def test_buy_stock_rp(self): # test case\n",
    "        \n",
    "        Stock1 = Stock()\n",
    "        U2 = bot(Stock1)\n",
    "        \n",
    "        container_price_min = list(range(50,201))\n",
    "        container_price_max = list(range(200,500))\n",
    "        \n",
    "        output = U2.buy_stock_rp(201, 50, vol=10)\n",
    "         \n",
    "        self.assertEqual(output[0],(10*output[1]))\n",
    "        \n",
    "        self.assertEqual(output[2],10)\n",
    "        #try with 100, there will be assertion error\n",
    "        \n",
    "        self.assertIn(output[1],container_price_min)\n",
    "        \n",
    "        output = U2.buy_stock_rp(500, 200, vol=10)\n",
    "        self.assertIn(output[1],container_price_max)\n",
    "    \n",
    "    def test_get_expense_list(self): # test case\n",
    "        Stock1 = Stock()\n",
    "        U2 = bot(Stock1)\n",
    "        \n",
    "        U2.process()\n",
    "        \n",
    "        out_expense = U2.get_expense_list()\n",
    "        print(sum(out_expense))\n",
    "        \n",
    "        testval = (sum(out_expense) <= 10000.0)\n",
    "        \n",
    "        self.assertTrue(testval,\"Expense > 10000\")\n",
    "        \n",
    "         \n",
    "    @classmethod\n",
    "    def tearDownClass(cls):\n",
    "        print('teardownClass')"
   ]
  },
  {
   "cell_type": "code",
   "execution_count": 5,
   "id": "236e2850",
   "metadata": {},
   "outputs": [
    {
     "name": "stderr",
     "output_type": "stream",
     "text": [
      "E\n",
      "======================================================================\n",
      "ERROR: C:\\Users\\vijip\\AppData\\Roaming\\jupyter\\runtime\\kernel-2c20ae31-1c0c-4af2-ba04-d01f0b1e260f (unittest.loader._FailedTest)\n",
      "----------------------------------------------------------------------\n",
      "AttributeError: module '__main__' has no attribute 'C:\\Users\\vijip\\AppData\\Roaming\\jupyter\\runtime\\kernel-2c20ae31-1c0c-4af2-ba04-d01f0b1e260f'\n",
      "\n",
      "----------------------------------------------------------------------\n",
      "Ran 1 test in 0.001s\n",
      "\n",
      "FAILED (errors=1)\n"
     ]
    },
    {
     "ename": "SystemExit",
     "evalue": "True",
     "output_type": "error",
     "traceback": [
      "An exception has occurred, use %tb to see the full traceback.\n",
      "\u001b[1;31mSystemExit\u001b[0m\u001b[1;31m:\u001b[0m True\n"
     ]
    },
    {
     "name": "stderr",
     "output_type": "stream",
     "text": [
      "C:\\Users\\vijip\\anaconda3\\lib\\site-packages\\IPython\\core\\interactiveshell.py:3377: UserWarning: To exit: use 'exit', 'quit', or Ctrl-D.\n",
      "  warn(\"To exit: use 'exit', 'quit', or Ctrl-D.\", stacklevel=1)\n"
     ]
    }
   ],
   "source": [
    "import unittest\n",
    "from Test_bot import *\n",
    "from Test_endgame import *\n",
    "from Test_Stock_Main import *\n",
    "from Test_User import *\n",
    "\n",
    "def my_suite():\n",
    "    suite = unittest.TestSuite()\n",
    "    result = unittest.TestResult()\n",
    "    #add for each of the py files created with test case\n",
    "    suite.addTest(unittest.makeSuite(TestStock))\n",
    "    suite.addTest(unittest.makeSuite(TestUser))\n",
    "    suite.addTest(unittest.makeSuite(Testbot))\n",
    "    suite.addTest(unittest.makeSuite(Testendgame))\n",
    "    #runner = unittest.TextTestRunner()\n",
    "    return suite"
   ]
  },
  {
   "cell_type": "code",
   "execution_count": null,
   "id": "67e2529d",
   "metadata": {},
   "outputs": [],
   "source": []
  }
 ],
 "metadata": {
  "kernelspec": {
   "display_name": "Python 3 (ipykernel)",
   "language": "python",
   "name": "python3"
  },
  "language_info": {
   "codemirror_mode": {
    "name": "ipython",
    "version": 3
   },
   "file_extension": ".py",
   "mimetype": "text/x-python",
   "name": "python",
   "nbconvert_exporter": "python",
   "pygments_lexer": "ipython3",
   "version": "3.9.12"
  },
  "vscode": {
   "interpreter": {
    "hash": "ee089c0d8a7b72a1db4475b00a1092da957cc6786a2373700bea0bde293de64c"
   }
  }
 },
 "nbformat": 4,
 "nbformat_minor": 5
}
