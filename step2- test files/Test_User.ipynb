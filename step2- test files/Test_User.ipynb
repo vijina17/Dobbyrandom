{
 "cells": [
  {
   "cell_type": "code",
   "execution_count": null,
   "metadata": {},
   "outputs": [],
   "source": [
    "import unittest\n",
    "\n",
    "from main_package.Stock_main import *\n",
    "from sub_package.User import *"
   ]
  },
  {
   "cell_type": "code",
   "execution_count": null,
   "metadata": {},
   "outputs": [],
   "source": [
    "class TestUser(unittest.TestCase): # test class\n",
    "      \n",
    "\n",
    "      @classmethod\n",
    "      def setUpClass(cls):\n",
    "            print('setupClass')\n",
    "      \n",
    "      def setUp(self):\n",
    "            print('Set up')\n",
    "\n",
    "            \n",
    "      def tearDown(self):\n",
    "            print('Tear Down')\n",
    "\n",
    "      \n",
    "      def test_buy_stock_rp(self): # test case\n",
    "            \n",
    "            \n",
    "            Stock1 = Stock()\n",
    "            U1 = User(Stock1)\n",
    "            \n",
    "            container_price_min = list(range(50,201))\n",
    "            container_price_max = list(range(200,500))\n",
    "            \n",
    "            output = U1.Buy.buy_stock(high_price = 50, low_price = 10,  vol = 1)\n",
    "            # output: info.append(total_price) , info.append(buy_price), info.append(buy_volume)\n",
    "      \n",
    "            self.assertEqual(output[0],(output[1]* output[2]))\n",
    "            \n",
    "            self.assertEqual(output[2],10)\n",
    "            #try with 100, there will be assertion error\n",
    "            \n",
    "            self.assertIn(output[1],container_price_min)\n",
    "            \n",
    "            output = U1.Buy.buy_stock(high_price = 80, low_price = 20,  vol = 5) \n",
    "            # output: info.append(total_price) , info.append(buy_price), info.append(buy_volume)\n",
    "            self.assertIn(output[1],container_price_max)\n",
    "\n",
    "      def test_get_expense_list(self): # test case\n",
    "            Stock1 = Stock()\n",
    "            U1 = User(Stock1)\n",
    "            \n",
    "            U1.process()\n",
    "            \n",
    "            out_expense = U1.get_expense_list()\n",
    "            print(sum(out_expense))\n",
    "            \n",
    "            testval = (sum(out_expense) <= 10000.0)\n",
    "            \n",
    "            self.assertTrue(testval,\"Expense > 10000\")\n",
    "\n",
    "      @classmethod\n",
    "      def tearDownClass(cls):\n",
    "            print('teardownClass')"
   ]
  }
 ],
 "metadata": {
  "kernelspec": {
   "display_name": "Python 3",
   "language": "python",
   "name": "python3"
  },
  "language_info": {
   "name": "python",
   "version": "3.9.1 (default, Mar  9 2021, 11:25:46) \n[Clang 12.0.0 (clang-1200.0.32.29)]"
  },
  "orig_nbformat": 4,
  "vscode": {
   "interpreter": {
    "hash": "ee089c0d8a7b72a1db4475b00a1092da957cc6786a2373700bea0bde293de64c"
   }
  }
 },
 "nbformat": 4,
 "nbformat_minor": 2
}
