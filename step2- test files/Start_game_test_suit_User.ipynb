{
 "cells": [
  {
   "cell_type": "code",
   "execution_count": null,
   "metadata": {},
   "outputs": [],
   "source": [
    "import unittest\n",
    "\n",
    "from Test_endgame import *\n",
    "from Test_User import *\n",
    "\n",
    "\n",
    "def my_suite():\n",
    "      suite = unittest.TestSuite()\n",
    "      result = unittest.TestResult()\n",
    "      #add for each of the py files created with test case\n",
    "      suite.addTest(unittest.makeSuite(TestUser))\n",
    "      suite.addTest(unittest.makeSuite(Testendgame))\n",
    "      #runner = unittest.TextTestRunner()\n",
    "      return suite\n",
    "\n",
    "#print(runner.run(suite))\n",
    "\n",
    "#my_suite()"
   ]
  },
  {
   "cell_type": "code",
   "execution_count": null,
   "metadata": {},
   "outputs": [],
   "source": [
    "if __name__ == '__main__':\n",
    "      runner = unittest.TextTestRunner()\n",
    "      runner.run(my_suite())"
   ]
  }
 ],
 "metadata": {
  "kernelspec": {
   "display_name": "Python 3",
   "language": "python",
   "name": "python3"
  },
  "language_info": {
   "name": "python",
   "version": "3.9.1 (default, Mar  9 2021, 11:25:46) \n[Clang 12.0.0 (clang-1200.0.32.29)]"
  },
  "orig_nbformat": 4,
  "vscode": {
   "interpreter": {
    "hash": "ee089c0d8a7b72a1db4475b00a1092da957cc6786a2373700bea0bde293de64c"
   }
  }
 },
 "nbformat": 4,
 "nbformat_minor": 2
}
