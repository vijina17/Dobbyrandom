{
 "cells": [
  {
   "cell_type": "code",
   "execution_count": 3,
   "id": "30142289",
   "metadata": {},
   "outputs": [],
   "source": [
    "import unittest\n",
    "from Test_bot import *\n",
    "from Test_endgame import *\n",
    "from Test_Stock_Main import *\n",
    "def my_suite():\n",
    "    suite = unittest.TestSuite()\n",
    "    result = unittest.TestResult()\n",
    "    #add for each of the py files created with test case\n",
    "    suite.addTest(unittest.makeSuite(TestStock))\n",
    "    suite.addTest(unittest.makeSuite(Testbot))\n",
    "    suite.addTest(unittest.makeSuite(Testendgame))\n",
    "    \n",
    "    #runner = unittest.TextTestRunner()\n",
    "    return suite\n",
    "    \n",
    "#print(runner.run(suite))\n",
    "\n",
    "#my_suite()"
   ]
  },
  {
   "cell_type": "code",
   "execution_count": 4,
   "id": "287e0033",
   "metadata": {},
   "outputs": [
    {
     "name": "stderr",
     "output_type": "stream",
     "text": [
      "EEFE"
     ]
    },
    {
     "name": "stdout",
     "output_type": "stream",
     "text": [
      "setupClass\n",
      "Set up\n",
      "Tear Down\n",
      "Set up\n",
      "Tear Down\n",
      "Set up\n",
      "Tear Down\n",
      "Set up\n",
      "Tear Down\n",
      "teardownClass\n",
      "setupClass\n",
      "Set up\n"
     ]
    },
    {
     "name": "stderr",
     "output_type": "stream",
     "text": [
      "."
     ]
    },
    {
     "name": "stdout",
     "output_type": "stream",
     "text": [
      "You are going to play 1 round, get ready!!!!!!!!\n",
      "\n",
      "Tear Down\n",
      "Set up\n"
     ]
    },
    {
     "name": "stderr",
     "output_type": "stream",
     "text": [
      "..."
     ]
    },
    {
     "name": "stdout",
     "output_type": "stream",
     "text": [
      "You are going to play 1 round, get ready!!!!!!!!\n",
      "\n",
      "Dobby's turn to play\n",
      "\n",
      "|----------------Round1-----------------|\n",
      "|The high price of stock is 225 \t|\n",
      "|The low price of stock is 105 \t\t|\n",
      "|The volume of stock is 92 \t\t|\n",
      "|***Dobby pass this round*** \t\t|\n",
      "|---------------------------------------|\n",
      "\n",
      "End of the game\n",
      "----------------------------------------\n",
      "Calculating your total expense.........\t\n",
      "The total price of the stock you bought is 0\n",
      "0\n",
      "Tear Down\n",
      "teardownClass\n",
      "setupClass\n",
      "Set up\n",
      "Tear Down\n",
      "Set up\n",
      "Tear Down\n",
      "teardownClass\n"
     ]
    },
    {
     "name": "stderr",
     "output_type": "stream",
     "text": [
      "\n",
      "======================================================================\n",
      "ERROR: test_high_price (Test_Stock_Main.TestStock)\n",
      "----------------------------------------------------------------------\n",
      "Traceback (most recent call last):\n",
      "  File \"/Users/gawain/533-project-step2/Test_Stock_Main.py\", line 16, in test_high_price\n",
      "    self.assertEqual(self.get_high_price(), self.high_price_list)\n",
      "AttributeError: 'TestStock' object has no attribute 'get_high_price'\n",
      "\n",
      "======================================================================\n",
      "ERROR: test_low_price (Test_Stock_Main.TestStock)\n",
      "----------------------------------------------------------------------\n",
      "Traceback (most recent call last):\n",
      "  File \"/Users/gawain/533-project-step2/Test_Stock_Main.py\", line 20, in test_low_price\n",
      "    self.assertEqual(self.get_low_price(), self.low_price_list)\n",
      "AttributeError: 'TestStock' object has no attribute 'get_low_price'\n",
      "\n",
      "======================================================================\n",
      "ERROR: test_vol (Test_Stock_Main.TestStock)\n",
      "----------------------------------------------------------------------\n",
      "Traceback (most recent call last):\n",
      "  File \"/Users/gawain/533-project-step2/Test_Stock_Main.py\", line 24, in test_vol\n",
      "    self.assertEqual(self.get_volume(), self.volume_list)\n",
      "AttributeError: 'TestStock' object has no attribute 'get_volume'\n",
      "\n",
      "======================================================================\n",
      "FAIL: test_size (Test_Stock_Main.TestStock)\n",
      "----------------------------------------------------------------------\n",
      "Traceback (most recent call last):\n",
      "  File \"/Users/gawain/533-project-step2/Test_Stock_Main.py\", line 33, in test_size\n",
      "    self.assertEqual(self.n , 4) # it will has error\n",
      "AssertionError: 5 != 4\n",
      "\n",
      "----------------------------------------------------------------------\n",
      "Ran 8 tests in 2.509s\n",
      "\n",
      "FAILED (failures=1, errors=3)\n"
     ]
    }
   ],
   "source": [
    "if __name__ == '__main__':\n",
    "    runner = unittest.TextTestRunner()\n",
    "    runner.run(my_suite())"
   ]
  },
  {
   "cell_type": "code",
   "execution_count": null,
   "id": "04b4d54c",
   "metadata": {},
   "outputs": [],
   "source": []
  }
 ],
 "metadata": {
  "kernelspec": {
   "display_name": "Python 3",
   "language": "python",
   "name": "python3"
  },
  "language_info": {
   "codemirror_mode": {
    "name": "ipython",
    "version": 3
   },
   "file_extension": ".py",
   "mimetype": "text/x-python",
   "name": "python",
   "nbconvert_exporter": "python",
   "pygments_lexer": "ipython3",
   "version": "3.9.1"
  },
  "vscode": {
   "interpreter": {
    "hash": "ee089c0d8a7b72a1db4475b00a1092da957cc6786a2373700bea0bde293de64c"
   }
  }
 },
 "nbformat": 4,
 "nbformat_minor": 5
}
