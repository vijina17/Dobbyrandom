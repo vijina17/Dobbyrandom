{
 "cells": [
  {
   "cell_type": "code",
   "execution_count": null,
   "metadata": {},
   "outputs": [],
   "source": [
    "import unittest\n",
    "\n",
    "from main_package.Stock_main import *\n",
    "from sub_package.User import *\n",
    "from main_package.Buy import *\n",
    "\n",
    "from Test_Stock_Main import *\n",
    "from Test_bot import *\n",
    "from Test_User import *\n",
    "from Test_endgame import *"
   ]
  },
  {
   "cell_type": "code",
   "execution_count": null,
   "metadata": {},
   "outputs": [],
   "source": [
    "class TestStock(unittest.TestCase):\n",
    "      \n",
    "      @classmethod\n",
    "      def setUpClass(cls):\n",
    "            print('setupClass')\n",
    "      \n",
    "      def setUp(self):\n",
    "            print('Set up')\n",
    "            \n",
    "      def test_get_high_price(self):\n",
    "            stock = Stock()\n",
    "            high_prices = stock.get_high_price()\n",
    "            self.assertIsInstance(high_prices, list)\n",
    "            self.assertGreaterEqual(max(high_prices), 201)\n",
    "            self.assertLessEqual(min(high_prices), 500)\n",
    "\n",
    "      def test_get_low_price(self):\n",
    "            stock = Stock()\n",
    "            low_prices = stock.get_low_price()\n",
    "            self.assertIsInstance(low_prices, list)\n",
    "            self.assertGreaterEqual(max(low_prices), 50)\n",
    "            self.assertLessEqual(min(low_prices), 200)\n",
    "\n",
    "      def test_get_volume(self):\n",
    "            stock = Stock()\n",
    "            volumes = stock.get_volume()\n",
    "            self.assertIsInstance(volumes, list)\n",
    "            self.assertGreaterEqual(max(volumes), 1)\n",
    "            self.assertLessEqual(min(volumes), 200)\n",
    "            \n",
    "      def test_get_size(self):\n",
    "            stock = Stock()\n",
    "            size = stock.get_size()\n",
    "            self.assertIsInstance(size, int)\n",
    "            self.assertGreaterEqual(size, 0)\n",
    "\n",
    "      def test_str(self):\n",
    "            stock = Stock()\n",
    "            stock_str = stock.__str__\n",
    "            self.assertIsInstance(stock_str, str)\n",
    "            self.assertIn(\"high price list:\", stock_str)\n",
    "            self.assertIn(\"low price list:\", stock_str)\n",
    "            self.assertIn(\"volume list:\", stock_str)\n",
    "            \n",
    "      def tearDown(self):\n",
    "            print('Tear Down')\n",
    "      \n",
    "      @classmethod\n",
    "      def tearDownClass(cls):\n",
    "            print('teardownClass')\n",
    "\n",
    "\n"
   ]
  },
  {
   "cell_type": "code",
   "execution_count": null,
   "metadata": {},
   "outputs": [],
   "source": [
    "if __name__ == '__main__':\n",
    "      unittest.main()"
   ]
  }
 ],
 "metadata": {
  "kernelspec": {
   "display_name": "Python 3",
   "language": "python",
   "name": "python3"
  },
  "language_info": {
   "codemirror_mode": {
    "name": "ipython",
    "version": 3
   },
   "file_extension": ".py",
   "mimetype": "text/x-python",
   "name": "python",
   "nbconvert_exporter": "python",
   "pygments_lexer": "ipython3",
   "version": "3.9.15"
  },
  "orig_nbformat": 4,
  "vscode": {
   "interpreter": {
    "hash": "397704579725e15f5c7cb49fe5f0341eb7531c82d19f2c29d197e8b64ab5776b"
   }
  }
 },
 "nbformat": 4,
 "nbformat_minor": 2
}
