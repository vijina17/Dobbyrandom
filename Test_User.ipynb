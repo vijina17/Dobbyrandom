{
 "cells": [
  {
   "cell_type": "code",
   "execution_count": null,
   "metadata": {},
   "outputs": [],
   "source": [
    "import unittest\n",
    "\n",
    "from main_package.Stock_main import *\n",
    "from sub_package.User import *\n",
    "from main_package.Buy import *\n",
    "\n",
    "from Test_Stock_Main import *\n",
    "from Test_bot import *\n",
    "from Test_User import *\n",
    "from Test_endgame import *"
   ]
  },
  {
   "cell_type": "code",
   "execution_count": null,
   "metadata": {},
   "outputs": [],
   "source": [
    "class TestUser(unittest.TestCase): # test class\n",
    "      \n",
    "      @classmethod\n",
    "      def setUpClass(cls):\n",
    "            print('setupClass')\n",
    "      \n",
    "      def setUp(self):\n",
    "            print('Set up')\n",
    "\n",
    "            \n",
    "      def tearDown(self):\n",
    "            print('Tear Down')\n",
    "\n",
    "      \n",
    "      def test_get_expense_list(self): # test case\n",
    "            Stock1 = Stock()\n",
    "            U1 = User(Stock1)\n",
    "            \n",
    "            U1.process()\n",
    "            \n",
    "            out_expense = U1.get_expense_list()\n",
    "            sum_expense = sum(out_expense)\n",
    "            print(sum(out_expense))\n",
    "            \n",
    "            testval = (sum(out_expense) <= 10000.0)\n",
    "            self.assertTrue(testval,\"Expense > 10000\")\n",
    "            self.assertIn(out_expense[0], out_expense)\n",
    "            self.assertIsNotNone(out_expense)\n",
    "            self.assertEqual(sum_expense, sum(out_expense))\n",
    "            \n",
    "      def test_classobj(self):\n",
    "            Stock1 = Stock()\n",
    "            U1 = User(Stock1)\n",
    "            message = \"its not the right class type\"\n",
    "            # check relevant class types\n",
    "            self.assertIsInstance(Stock1, Stock, message)\n",
    "            self.assertIsInstance(U1, User, message)\n",
    "            # self.assertTrue(Buy.check_the_input_Y_N(\"Y\"))\n",
    "            # self.assertFalse(Buy.check_the_input_Y_N(\"N\"))\n",
    "\n",
    "      @classmethod\n",
    "      def tearDownClass(cls):\n",
    "            print('teardownClass')"
   ]
  },
  {
   "cell_type": "code",
   "execution_count": null,
   "metadata": {},
   "outputs": [],
   "source": [
    "def my_suite():\n",
    "      suite = unittest.TestSuite()\n",
    "      result = unittest.TestResult()\n",
    "      #add for each of the py files created with test case\n",
    "      suite.addTest(unittest.makeSuite(TestStock))\n",
    "      suite.addTest(unittest.makeSuite(TestUser))\n",
    "      suite.addTest(unittest.makeSuite(Testbot))\n",
    "      suite.addTest(unittest.makeSuite(Testendgame))\n",
    "      #runner = unittest.TextTestRunner()\n",
    "      return suite\n"
   ]
  },
  {
   "cell_type": "code",
   "execution_count": null,
   "metadata": {},
   "outputs": [],
   "source": [
    "runner = unittest.TextTestRunner()\n",
    "runner.run(my_suite())"
   ]
  }
 ],
 "metadata": {
  "kernelspec": {
   "display_name": "Python 3",
   "language": "python",
   "name": "python3"
  },
  "language_info": {
   "name": "python",
   "version": "3.9.1 (default, Mar  9 2021, 11:25:46) \n[Clang 12.0.0 (clang-1200.0.32.29)]"
  },
  "orig_nbformat": 4,
  "vscode": {
   "interpreter": {
    "hash": "ee089c0d8a7b72a1db4475b00a1092da957cc6786a2373700bea0bde293de64c"
   }
  }
 },
 "nbformat": 4,
 "nbformat_minor": 2
}
