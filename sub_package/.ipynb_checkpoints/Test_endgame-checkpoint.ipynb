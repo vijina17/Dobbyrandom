{
 "cells": [
  {
   "cell_type": "code",
   "execution_count": 1,
   "id": "787a24ff",
   "metadata": {},
   "outputs": [
    {
     "ename": "ModuleNotFoundError",
     "evalue": "No module named 'main_package'",
     "output_type": "error",
     "traceback": [
      "\u001b[1;31m---------------------------------------------------------------------------\u001b[0m",
      "\u001b[1;31mModuleNotFoundError\u001b[0m                       Traceback (most recent call last)",
      "Input \u001b[1;32mIn [1]\u001b[0m, in \u001b[0;36m<cell line: 3>\u001b[1;34m()\u001b[0m\n\u001b[0;32m      1\u001b[0m \u001b[38;5;28;01mimport\u001b[39;00m \u001b[38;5;21;01munittest\u001b[39;00m\n\u001b[1;32m----> 3\u001b[0m \u001b[38;5;28;01mfrom\u001b[39;00m \u001b[38;5;21;01mmain_package\u001b[39;00m\u001b[38;5;21;01m.\u001b[39;00m\u001b[38;5;21;01mStock_main\u001b[39;00m \u001b[38;5;28;01mimport\u001b[39;00m \u001b[38;5;241m*\u001b[39m\n\u001b[0;32m      4\u001b[0m \u001b[38;5;66;03m#from sub_package.User import *\u001b[39;00m\n\u001b[0;32m      5\u001b[0m \u001b[38;5;66;03m#from sub_package.bot import *\u001b[39;00m\n\u001b[0;32m      6\u001b[0m \u001b[38;5;28;01mfrom\u001b[39;00m \u001b[38;5;21;01msub_package\u001b[39;00m\u001b[38;5;21;01m.\u001b[39;00m\u001b[38;5;21;01mendgame\u001b[39;00m \u001b[38;5;28;01mimport\u001b[39;00m \u001b[38;5;241m*\u001b[39m\n",
      "\u001b[1;31mModuleNotFoundError\u001b[0m: No module named 'main_package'"
     ]
    }
   ],
   "source": [
    "import unittest\n",
    "\n",
    "from main_package.Stock_main import *\n",
    "#from sub_package.User import *\n",
    "#from sub_package.bot import *\n",
    "from sub_package.endgame import *"
   ]
  },
  {
   "cell_type": "code",
   "execution_count": null,
   "id": "15623099",
   "metadata": {},
   "outputs": [],
   "source": [
    "class Testbot(unittest.TestCase): # test class\n",
    "    \n",
    "    @classmethod\n",
    "    def setUpClass(cls):\n",
    "        print('setupClass')\n",
    "    \n",
    "    def setUp(self):\n",
    "        print('Set up')\n",
    "\n",
    "        \n",
    "    def tearDown(self):\n",
    "        print('Tear Down')\n",
    "\n",
    "       \n",
    "    def test_buy_stock_rp(self): # test case\n",
    "        player_1_status = [[100,0,0], [10,10,10], [10,0,0]]\n",
    "        dobby_2_status = [[0,100,0], [10,10,10], [0,10,0]]\n",
    "        stock_list = [[120,120,120], [50,50,50], 2]\n",
    "       \n",
    "\n",
    "        (cb1, cb2) = cashback(player_1_status, dobby_2_status)\n",
    "        print(cb1,cb2)\n",
    "         \n",
    "        #self.assertEqual(output[0],(10*output[1]))\n",
    "        \n",
    "        #self.assertEqual(output[2],10)\n",
    "        #try with 100, there will be assertion error\n",
    "        \n",
    "        #self.assertIn(output[1],container_price_min)\n",
    "        \n",
    "        #output = U2.buy_stock_rp(500, 200, vol=10)\n",
    "        #self.assertIn(output[1],container_price_max)\n",
    "        \n",
    "         \n",
    "    @classmethod\n",
    "    def tearDownClass(cls):\n",
    "        print('teardownClass')"
   ]
  }
 ],
 "metadata": {
  "kernelspec": {
   "display_name": "Python 3 (ipykernel)",
   "language": "python",
   "name": "python3"
  },
  "language_info": {
   "codemirror_mode": {
    "name": "ipython",
    "version": 3
   },
   "file_extension": ".py",
   "mimetype": "text/x-python",
   "name": "python",
   "nbconvert_exporter": "python",
   "pygments_lexer": "ipython3",
   "version": "3.9.12"
  }
 },
 "nbformat": 4,
 "nbformat_minor": 5
}
