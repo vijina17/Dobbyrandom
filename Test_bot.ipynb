{
 "cells": [
  {
   "cell_type": "code",
   "execution_count": 32,
   "id": "43e1fd9f",
   "metadata": {},
   "outputs": [],
   "source": [
    "import unittest\n",
    "\n",
    "from main_package.Stock_main import *\n",
    "from sub_package.bot import *"
   ]
  },
  {
   "cell_type": "code",
   "execution_count": 33,
   "id": "8e4c0ecb",
   "metadata": {},
   "outputs": [],
   "source": [
    "class Testbot(unittest.TestCase): # test class\n",
    "    \n",
    "    @classmethod\n",
    "    def setUpClass(cls):\n",
    "        print('setupClass')\n",
    "    \n",
    "    def setUp(self):\n",
    "        print('Set up')\n",
    "\n",
    "        \n",
    "    def tearDown(self):\n",
    "        print('Tear Down')\n",
    "\n",
    "       \n",
    "    def test_buy_stock_rp(self): # test case\n",
    "        \n",
    "        Stock1 = Stock()\n",
    "        U2 = bot(Stock1)\n",
    "        \n",
    "        container_price_min = list(range(50,201))\n",
    "        container_price_max = list(range(200,500))\n",
    "        \n",
    "        output = U2.buy_stock_rp(201, 50, vol=10)\n",
    "         \n",
    "        self.assertEqual(output[0],(10*output[1]))\n",
    "        \n",
    "        self.assertEqual(output[2],10)\n",
    "        #try with 100, there will be assertion error\n",
    "        \n",
    "        self.assertIn(output[1],container_price_min)\n",
    "        \n",
    "        output = U2.buy_stock_rp(500, 200, vol=10)\n",
    "        self.assertIn(output[1],container_price_max)\n",
    "    \n",
    "    def test_get_expense_list(self): # test case\n",
    "        Stock1 = Stock()\n",
    "        U2 = bot(Stock1)\n",
    "        \n",
    "        U2.process()\n",
    "        \n",
    "        out_expense = U2.get_expense_list()\n",
    "        print(sum(out_expense))\n",
    "        \n",
    "        testval = (sum(out_expense) <= 10000.0)\n",
    "        \n",
    "        self.assertTrue(testval,\"Expense > 10000\")\n",
    "        \n",
    "         \n",
    "    @classmethod\n",
    "    def tearDownClass(cls):\n",
    "        print('teardownClass')"
   ]
  },
  {
   "cell_type": "code",
   "execution_count": null,
   "id": "236e2850",
   "metadata": {},
   "outputs": [],
   "source": []
  }
 ],
 "metadata": {
  "kernelspec": {
   "display_name": "Python 3",
   "language": "python",
   "name": "python3"
  },
  "language_info": {
   "codemirror_mode": {
    "name": "ipython",
    "version": 3
   },
   "file_extension": ".py",
   "mimetype": "text/x-python",
   "name": "python",
   "nbconvert_exporter": "python",
   "pygments_lexer": "ipython3",
   "version": "3.9.1 (default, Mar  9 2021, 11:25:46) \n[Clang 12.0.0 (clang-1200.0.32.29)]"
  },
  "vscode": {
   "interpreter": {
    "hash": "ee089c0d8a7b72a1db4475b00a1092da957cc6786a2373700bea0bde293de64c"
   }
  }
 },
 "nbformat": 4,
 "nbformat_minor": 5
}
